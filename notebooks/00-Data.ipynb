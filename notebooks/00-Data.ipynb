{
 "cells": [
  {
   "cell_type": "markdown",
   "metadata": {},
   "source": [
    "# Amils et al. 2023"
   ]
  },
  {
   "cell_type": "code",
   "execution_count": null,
   "metadata": {},
   "outputs": [],
   "source": [
    "# Add higher directory to python modules path\n",
    "\n",
    "import sys\n",
    "\n",
    "sys.path.append(\"..\")"
   ]
  },
  {
   "cell_type": "code",
   "execution_count": null,
   "metadata": {},
   "outputs": [],
   "source": [
    "import os\n",
    "\n",
    "import plotly.express as px\n",
    "\n",
    "import pandas as pd\n",
    "\n",
    "from modules.data.amils2023.data_loader import Amils2023DataLoader"
   ]
  },
  {
   "cell_type": "code",
   "execution_count": null,
   "metadata": {},
   "outputs": [],
   "source": [
    "data_loader = Amils2023DataLoader()"
   ]
  },
  {
   "cell_type": "markdown",
   "metadata": {},
   "source": [
    "### Dataset S2 - ICP-MS elemental analysis of core samples (ppm)"
   ]
  },
  {
   "cell_type": "code",
   "execution_count": null,
   "metadata": {},
   "outputs": [],
   "source": [
    "elements_df_long = data_loader.get_elements()\n",
    "elements_df_long"
   ]
  },
  {
   "cell_type": "code",
   "execution_count": null,
   "metadata": {},
   "outputs": [],
   "source": [
    "# Get sorted elements by their maximum concentration\n",
    "elements_sorted = elements_df_long\\\n",
    "    .groupby(\"Species\")\\\n",
    "    .max()\\\n",
    "    .sort_values(\"Concentration (ppm)\", ascending=False)\\\n",
    "    .index\\\n",
    "    .to_list()\n",
    "\n",
    "fig = px.scatter(\n",
    "    data_frame=elements_df_long,\n",
    "    x=\"Concentration (ppm)\",\n",
    "    y=\"Depth\",\n",
    "    color=\"Species\",\n",
    "    color_discrete_sequence=px.colors.qualitative.Pastel,\n",
    "    category_orders={\"Species\": elements_sorted},\n",
    "    title=\"Concentration of elements across the vertical column\"\n",
    ")\n",
    "fig['layout']['yaxis']['autorange'] = \"reversed\"\n",
    "fig.show(\"png\")\n",
    "\n",
    "fig = px.scatter(\n",
    "    data_frame=elements_df_long,\n",
    "    x=\"Concentration (ppm)\",\n",
    "    log_x=True,\n",
    "    y=\"Depth\",\n",
    "    color=\"Species\",\n",
    "    color_discrete_sequence=px.colors.qualitative.Pastel,\n",
    "    category_orders={\"Species\": elements_sorted},\n",
    "    title=\"Concentration of elements across the vertical column\"\n",
    ")\n",
    "fig.update_layout(xaxis_title=\"Concentration log(ppm)\")\n",
    "fig['layout']['yaxis']['autorange'] = \"reversed\"\n",
    "fig.show(\"png\")\n",
    "\n",
    "fig = px.violin(\n",
    "    data_frame=elements_df_long,\n",
    "    y=\"Concentration (ppm)\",\n",
    "    log_y=True,\n",
    "    color=\"Species\",\n",
    "    color_discrete_sequence=px.colors.qualitative.Pastel,\n",
    "    category_orders={\"Species\": elements_sorted},\n",
    "    title=\"Distribution of concentrations per element\"\n",
    ")\n",
    "fig.update_layout(\n",
    "    xaxis_title=\"Species\",\n",
    "    yaxis_title=\"Concentration log(ppm)\"\n",
    ")\n",
    "fig.show(\"png\")"
   ]
  },
  {
   "cell_type": "markdown",
   "metadata": {},
   "source": [
    "### Dataset S3 - Ionic chromatography of BH10 soluble organic and inorganic anions (ppm)"
   ]
  },
  {
   "cell_type": "code",
   "execution_count": null,
   "metadata": {},
   "outputs": [],
   "source": [
    "anions_df_long = data_loader.get_anions()\n",
    "anions_df_long"
   ]
  },
  {
   "cell_type": "markdown",
   "metadata": {},
   "source": [
    "### Table S1 - Soluble cations (ppm)"
   ]
  },
  {
   "cell_type": "code",
   "execution_count": null,
   "metadata": {},
   "outputs": [],
   "source": [
    "cations_df_long = data_loader.get_cations()\n",
    "cations_df_long"
   ]
  },
  {
   "cell_type": "markdown",
   "metadata": {},
   "source": [
    "### Table S7 - Occluded gases and natural activities at different depths (10/8/22)"
   ]
  },
  {
   "cell_type": "code",
   "execution_count": null,
   "metadata": {},
   "outputs": [],
   "source": [
    "gases_df_long = data_loader.get_gases()\n",
    "gases_df_long"
   ]
  },
  {
   "cell_type": "markdown",
   "metadata": {},
   "source": [
    "### Final medium"
   ]
  },
  {
   "cell_type": "code",
   "execution_count": null,
   "metadata": {},
   "outputs": [],
   "source": [
    "medium_df = data_loader.get_data()\n",
    "medium_df"
   ]
  },
  {
   "cell_type": "markdown",
   "metadata": {},
   "source": [
    "### Microbial data"
   ]
  },
  {
   "cell_type": "code",
   "execution_count": null,
   "metadata": {},
   "outputs": [],
   "source": [
    "# ---------------------------------------------------------------------------- #\n",
    "# Table S8-2 - Number of microbial species detected at different depths which\n",
    "# have the potential of carry out key metabolic pathways of the C, H, N, S and\n",
    "# Fe cycles. \n",
    "\n",
    "microbes_df = pd.read_excel(\n",
    "    os.path.join(\n",
    "        data_loader.data_dir,\n",
    "        \"emi16291-sup-0001-supinfo-tables8-2.ods\"\n",
    "    ),\n",
    "    sheet_name=\"Sheet1\"\n",
    ")\n",
    "\n",
    "# Rename pathway column\n",
    "microbes_df = microbes_df.rename(columns={\"Pathway/depth\": \"Pathway\"})\n",
    "\n",
    "# Drop last row containing the explanation\n",
    "microbes_df = microbes_df.iloc[:-1, :].copy()\n",
    "\n",
    "# Drop rows containing the cycles\n",
    "microbes_df = microbes_df[\n",
    "    ~microbes_df[\"Pathway\"].str.endswith(\" cycle\")\n",
    "]\n",
    "\n",
    "# Convert to numeric\n",
    "numeric_cols = [\n",
    "    col for col in microbes_df.columns\n",
    "    if col not in [\"Pathway\"]\n",
    "]\n",
    "microbes_df[numeric_cols] = microbes_df[numeric_cols].apply(\n",
    "    pd.to_numeric,\n",
    "    errors=\"coerce\"\n",
    ")\n",
    "\n",
    "fig = px.imshow(\n",
    "    img=microbes_df[numeric_cols].T.to_numpy(),\n",
    "    x=microbes_df[\"Pathway\"],\n",
    "    y=numeric_cols,\n",
    "    labels=dict(\n",
    "        x=\"Pathway\",\n",
    "        y=\"Depth\",\n",
    "        color=\"Count\"\n",
    "    ),\n",
    "    aspect=\"equal\",\n",
    "    width=600,\n",
    "    height=600,\n",
    "    title=\"Distribution of microbial functions across the vertical column\"\n",
    ")\n",
    "fig.show(\"png\")\n",
    "\n",
    "complete_depths = microbes_df[microbes_df[\"Pathway\"] == \"nº compl cyc\"]\n",
    "complete_depths = complete_depths[complete_depths == 5]\\\n",
    "    .dropna(axis=1)\\\n",
    "    .columns\n",
    "\n",
    "print(\n",
    "    \"[INFO] Depths with all microbial functions analyzed:\",\n",
    "    complete_depths\n",
    ")\n",
    "\n",
    "fig = px.imshow(\n",
    "    img=microbes_df[complete_depths].T.to_numpy(),\n",
    "    x=microbes_df[\"Pathway\"],\n",
    "    y=complete_depths,\n",
    "    labels=dict(\n",
    "        x=\"Pathway\",\n",
    "        y=\"Depth\",\n",
    "        color=\"Count\"\n",
    "    ),\n",
    "    aspect=\"equal\",\n",
    "    width=600,\n",
    "    height=600,\n",
    "    title=\"Distribution of microbial functions (only complete functions)\"\n",
    ")\n",
    "fig.add_shape(\n",
    "    type=\"rect\",\n",
    "    x0=0.0,\n",
    "    x1=1.0,\n",
    "    y0=481,\n",
    "    y1=493,\n",
    "    xref=\"paper\",\n",
    "    yref=\"y\",\n",
    "    line_color=\"red\"\n",
    ")\n",
    "fig.add_shape(\n",
    "    type=\"rect\",\n",
    "    x0=0.0,\n",
    "    x1=1.0,\n",
    "    y0=587,\n",
    "    y1=625,\n",
    "    xref=\"paper\",\n",
    "    yref=\"y\",\n",
    "    line_color=\"red\"\n",
    ")\n",
    "fig.show(\"png\")"
   ]
  },
  {
   "cell_type": "markdown",
   "metadata": {},
   "source": [
    "### Get complete depths"
   ]
  },
  {
   "cell_type": "code",
   "execution_count": null,
   "metadata": {},
   "outputs": [],
   "source": [
    "# ---------------------------------------------------------------------------- #\n",
    "# Taxonomy abundances\n",
    "\n",
    "taxonomy_abundances = pd.read_csv(\n",
    "    os.path.join(\n",
    "        \"../data/micom/rio_tinto/amils_2023/\",\n",
    "        \"taxonomy.csv\"\n",
    "    ),\n",
    "    sep=\",\"\n",
    ")\n",
    "\n",
    "# Drop species without abundance data\n",
    "taxonomy_abundances = taxonomy_abundances.dropna(subset=\"id\", axis=0)\n",
    "\n",
    "# Create depth column\n",
    "taxonomy_abundances[\"Depth\"] = taxonomy_abundances[\"sample_id\"]\\\n",
    "    .str.split(\"-\").str[1]\\\n",
    "    .astype(int)\n",
    "\n",
    "\n",
    "# ---------------------------------------------------------------------------- #\n",
    "# Get medium for the depths specified in the abundance data\n",
    "\n",
    "medium_df = medium_df[\n",
    "    medium_df[\"Depth\"].isin(taxonomy_abundances[\"Depth\"].unique())\n",
    "]\n",
    "\n",
    "# Get most complete medium according to its species\n",
    "depth_counts = medium_df\\\n",
    "    .groupby(\"Depth\")\\\n",
    "    .count()\\\n",
    "    [\"Species\"]\\\n",
    "    .sort_values(ascending=False)\n",
    "\n",
    "complete_depths = depth_counts[\n",
    "    depth_counts == medium_df[\"Species\"].nunique()\n",
    "].index\n",
    "\n",
    "# Get missing species at depth 468\n",
    "medium_df_wide = pd.pivot(\n",
    "    data=medium_df,\n",
    "    index=\"Depth\",\n",
    "    columns=\"Species\",\n",
    "    values=\"Concentration (ppm)\"\n",
    ")\n",
    "\n",
    "missing_species = medium_df_wide\\\n",
    "    .loc[depth_counts[depth_counts > 35].index]\\\n",
    "    .isnull()\\\n",
    "    .sum(axis=0)\\\n",
    "    .sort_values(ascending=False)\n",
    "\n",
    "# Filter by complete depths\n",
    "taxonomy_abundances = taxonomy_abundances[\n",
    "    taxonomy_abundances[\"Depth\"].isin(complete_depths)\n",
    "].reset_index(drop=True)\n",
    "\n",
    "medium_df = medium_df[\n",
    "    medium_df[\"Depth\"].isin(complete_depths)\n",
    "].reset_index(drop=True)\n",
    "\n",
    "\n",
    "medium_df.to_csv(\n",
    "    \"../data/medium.csv\",\n",
    "    index=False,\n",
    "    header=True,\n",
    "    sep=\";\"\n",
    ")\n",
    "\n",
    "fig = px.scatter(\n",
    "    data_frame=medium_df,\n",
    "    x=\"Concentration (ppm)\",\n",
    "    log_x=True,\n",
    "    y=\"Depth\",\n",
    "    color=\"Species\",\n",
    "    color_discrete_sequence=px.colors.qualitative.Pastel,\n",
    "    category_orders={\"Species\": elements_sorted},\n",
    "    title=\"Concentration of elements across the vertical column\"\n",
    ")\n",
    "fig.update_layout(xaxis_title=\"Concentration log(ppm)\")\n",
    "fig['layout']['yaxis']['autorange'] = \"reversed\"\n",
    "fig.show()\n"
   ]
  }
 ],
 "metadata": {
  "kernelspec": {
   "display_name": "tfm",
   "language": "python",
   "name": "python3"
  },
  "language_info": {
   "codemirror_mode": {
    "name": "ipython",
    "version": 3
   },
   "file_extension": ".py",
   "mimetype": "text/x-python",
   "name": "python",
   "nbconvert_exporter": "python",
   "pygments_lexer": "ipython3",
   "version": "3.10.12"
  },
  "orig_nbformat": 4
 },
 "nbformat": 4,
 "nbformat_minor": 2
}
