{
 "cells": [
  {
   "cell_type": "code",
   "execution_count": null,
   "metadata": {},
   "outputs": [],
   "source": []
  },
  {
   "cell_type": "markdown",
   "metadata": {},
   "source": [
    "# Experiments"
   ]
  },
  {
   "cell_type": "markdown",
   "metadata": {},
   "source": [
    "#### Same abundance among species\n",
    "\n",
    "* Objective: community growth\n",
    "* Objective: community growth + production of metabolite of interest\n",
    "* Objective: community growth + production of metabolite of interest + anaerobic conditions"
   ]
  },
  {
   "cell_type": "markdown",
   "metadata": {},
   "source": [
    "#### Use abundances from Amils et al. 2023\n",
    "\n",
    "* A community model for each depth\n",
    "* A community model merging the maximum at all depths"
   ]
  }
 ],
 "metadata": {
  "language_info": {
   "name": "python"
  },
  "orig_nbformat": 4
 },
 "nbformat": 4,
 "nbformat_minor": 2
}
