{
 "cells": [
  {
   "cell_type": "markdown",
   "metadata": {},
   "source": [
    "# MICOM analysis"
   ]
  },
  {
   "cell_type": "code",
   "execution_count": 1,
   "metadata": {},
   "outputs": [],
   "source": [
    "# Add higher directory to python modules path\n",
    "\n",
    "import sys\n",
    "\n",
    "sys.path.append(\"..\")"
   ]
  },
  {
   "cell_type": "code",
   "execution_count": 2,
   "metadata": {},
   "outputs": [],
   "source": [
    "import os\n",
    "import yaml\n",
    "\n",
    "import pandas as pd\n",
    "\n",
    "import micom\n",
    "from micom import Community, load_pickle\n",
    "\n",
    "from biofoundry.data.amils2023 import Amils2023DataLoader\n",
    "from biofoundry.micom import (\n",
    "    MICOMPreloader,\n",
    "    MICOMMediumManager,\n",
    "    plot_abundances_depth,\n",
    "    plot_minimal_medium\n",
    ")\n",
    "from biofoundry.utils import save_fig"
   ]
  },
  {
   "cell_type": "code",
   "execution_count": 3,
   "metadata": {},
   "outputs": [],
   "source": [
    "def save_sol(\n",
    "    sol: micom.solution.CommunitySolution,\n",
    "    path: str\n",
    ") -> None:\n",
    "    sol_df = sol.members.copy()\n",
    "    sol_df[\"community_growth_rate\"] = sol.growth_rate\n",
    "    sol_df[\"status\"] = sol.status\n",
    "\n",
    "    sol_df.to_csv(path)"
   ]
  },
  {
   "cell_type": "code",
   "execution_count": 4,
   "metadata": {},
   "outputs": [],
   "source": [
    "# Load config\n",
    "\n",
    "with open(\"../biofoundry/config.yml\") as config_file:\n",
    "    config = yaml.safe_load(config_file)"
   ]
  },
  {
   "cell_type": "code",
   "execution_count": 5,
   "metadata": {},
   "outputs": [],
   "source": [
    "output_dir = os.path.join(\n",
    "    config[\"paths\"][\"micom\"],\n",
    "    \"amils2023\"\n",
    ")\n",
    "\n",
    "data_loader = Amils2023DataLoader()\n",
    "preloader = MICOMPreloader(config)"
   ]
  },
  {
   "cell_type": "code",
   "execution_count": 6,
   "metadata": {},
   "outputs": [
    {
     "data": {
      "text/html": [
       "<div>\n",
       "<style scoped>\n",
       "    .dataframe tbody tr th:only-of-type {\n",
       "        vertical-align: middle;\n",
       "    }\n",
       "\n",
       "    .dataframe tbody tr th {\n",
       "        vertical-align: top;\n",
       "    }\n",
       "\n",
       "    .dataframe thead th {\n",
       "        text-align: right;\n",
       "    }\n",
       "</style>\n",
       "<table border=\"1\" class=\"dataframe\">\n",
       "  <thead>\n",
       "    <tr style=\"text-align: right;\">\n",
       "      <th></th>\n",
       "      <th>genus</th>\n",
       "      <th>sample_id</th>\n",
       "      <th>abundance</th>\n",
       "    </tr>\n",
       "  </thead>\n",
       "  <tbody>\n",
       "    <tr>\n",
       "      <th>0</th>\n",
       "      <td>Acidiphilium</td>\n",
       "      <td>BH10-103-Illumina</td>\n",
       "      <td>0.0</td>\n",
       "    </tr>\n",
       "    <tr>\n",
       "      <th>1</th>\n",
       "      <td>Aciditerrimonas</td>\n",
       "      <td>BH10-103-Illumina</td>\n",
       "      <td>0.0</td>\n",
       "    </tr>\n",
       "    <tr>\n",
       "      <th>2</th>\n",
       "      <td>Acidovorax</td>\n",
       "      <td>BH10-103-Illumina</td>\n",
       "      <td>0.0</td>\n",
       "    </tr>\n",
       "    <tr>\n",
       "      <th>3</th>\n",
       "      <td>Acinetobacter</td>\n",
       "      <td>BH10-103-Illumina</td>\n",
       "      <td>0.0</td>\n",
       "    </tr>\n",
       "    <tr>\n",
       "      <th>4</th>\n",
       "      <td>Actinobacillus</td>\n",
       "      <td>BH10-103-Illumina</td>\n",
       "      <td>0.0</td>\n",
       "    </tr>\n",
       "    <tr>\n",
       "      <th>...</th>\n",
       "      <td>...</td>\n",
       "      <td>...</td>\n",
       "      <td>...</td>\n",
       "    </tr>\n",
       "    <tr>\n",
       "      <th>1031</th>\n",
       "      <td>Spirosoma</td>\n",
       "      <td>BH10-496-Roche</td>\n",
       "      <td>0.0</td>\n",
       "    </tr>\n",
       "    <tr>\n",
       "      <th>1032</th>\n",
       "      <td>Truepera</td>\n",
       "      <td>BH10-496-Roche</td>\n",
       "      <td>0.0</td>\n",
       "    </tr>\n",
       "    <tr>\n",
       "      <th>1033</th>\n",
       "      <td>WPS-1_genera_incertae_sedis</td>\n",
       "      <td>BH10-496-Roche</td>\n",
       "      <td>0.0</td>\n",
       "    </tr>\n",
       "    <tr>\n",
       "      <th>1034</th>\n",
       "      <td>Xylanimicrobium</td>\n",
       "      <td>BH10-496-Roche</td>\n",
       "      <td>0.0</td>\n",
       "    </tr>\n",
       "    <tr>\n",
       "      <th>1035</th>\n",
       "      <td>Zhihengliuella</td>\n",
       "      <td>BH10-496-Roche</td>\n",
       "      <td>0.0</td>\n",
       "    </tr>\n",
       "  </tbody>\n",
       "</table>\n",
       "<p>1036 rows × 3 columns</p>\n",
       "</div>"
      ],
      "text/plain": [
       "                            genus          sample_id  abundance\n",
       "0                    Acidiphilium  BH10-103-Illumina        0.0\n",
       "1                 Aciditerrimonas  BH10-103-Illumina        0.0\n",
       "2                      Acidovorax  BH10-103-Illumina        0.0\n",
       "3                   Acinetobacter  BH10-103-Illumina        0.0\n",
       "4                  Actinobacillus  BH10-103-Illumina        0.0\n",
       "...                           ...                ...        ...\n",
       "1031                    Spirosoma     BH10-496-Roche        0.0\n",
       "1032                     Truepera     BH10-496-Roche        0.0\n",
       "1033  WPS-1_genera_incertae_sedis     BH10-496-Roche        0.0\n",
       "1034              Xylanimicrobium     BH10-496-Roche        0.0\n",
       "1035               Zhihengliuella     BH10-496-Roche        0.0\n",
       "\n",
       "[1036 rows x 3 columns]"
      ]
     },
     "execution_count": 6,
     "metadata": {},
     "output_type": "execute_result"
    }
   ],
   "source": [
    "abundances_df = data_loader.get_abundances()\n",
    "abundances_df"
   ]
  },
  {
   "cell_type": "code",
   "execution_count": 7,
   "metadata": {},
   "outputs": [
    {
     "data": {
      "text/html": [
       "<div>\n",
       "<style scoped>\n",
       "    .dataframe tbody tr th:only-of-type {\n",
       "        vertical-align: middle;\n",
       "    }\n",
       "\n",
       "    .dataframe tbody tr th {\n",
       "        vertical-align: top;\n",
       "    }\n",
       "\n",
       "    .dataframe thead th {\n",
       "        text-align: right;\n",
       "    }\n",
       "</style>\n",
       "<table border=\"1\" class=\"dataframe\">\n",
       "  <thead>\n",
       "    <tr style=\"text-align: right;\">\n",
       "      <th></th>\n",
       "      <th>id</th>\n",
       "      <th>genus</th>\n",
       "      <th>species</th>\n",
       "      <th>reactions</th>\n",
       "      <th>metabolites</th>\n",
       "      <th>file</th>\n",
       "    </tr>\n",
       "  </thead>\n",
       "  <tbody>\n",
       "    <tr>\n",
       "      <th>0</th>\n",
       "      <td>aci</td>\n",
       "      <td>Acidovorax</td>\n",
       "      <td>Acidovorax BoFeN1</td>\n",
       "      <td>1246</td>\n",
       "      <td>1199</td>\n",
       "      <td>../data/gem/aci_formatted.json</td>\n",
       "    </tr>\n",
       "    <tr>\n",
       "      <th>1</th>\n",
       "      <td>bme</td>\n",
       "      <td>Brevundimonas</td>\n",
       "      <td>Brevundimonas sp. T2.26MG-97</td>\n",
       "      <td>431</td>\n",
       "      <td>460</td>\n",
       "      <td>../data/gem/bme_formatted.json</td>\n",
       "    </tr>\n",
       "    <tr>\n",
       "      <th>2</th>\n",
       "      <td>dmi</td>\n",
       "      <td>Desulfosporosinus</td>\n",
       "      <td>Desulfosporosinus meridiei DEEP</td>\n",
       "      <td>1157</td>\n",
       "      <td>1104</td>\n",
       "      <td>../data/gem/dmi_formatted.json</td>\n",
       "    </tr>\n",
       "    <tr>\n",
       "      <th>3</th>\n",
       "      <td>pse</td>\n",
       "      <td>Pseudomonas</td>\n",
       "      <td>Pseudomonas sp. T2.31D-1</td>\n",
       "      <td>1461</td>\n",
       "      <td>1295</td>\n",
       "      <td>../data/gem/pse_formatted.json</td>\n",
       "    </tr>\n",
       "    <tr>\n",
       "      <th>4</th>\n",
       "      <td>rhi1</td>\n",
       "      <td>Rhizobium</td>\n",
       "      <td>Rhizobium sp. T2.30D-1.1</td>\n",
       "      <td>712</td>\n",
       "      <td>797</td>\n",
       "      <td>../data/gem/rhi1_formatted.json</td>\n",
       "    </tr>\n",
       "    <tr>\n",
       "      <th>5</th>\n",
       "      <td>rhi2</td>\n",
       "      <td>Rhizobium</td>\n",
       "      <td>Rhizobium sp. T2.26MG-112.2</td>\n",
       "      <td>683</td>\n",
       "      <td>773</td>\n",
       "      <td>../data/gem/rhi2_formatted.json</td>\n",
       "    </tr>\n",
       "    <tr>\n",
       "      <th>6</th>\n",
       "      <td>rho</td>\n",
       "      <td>Rhodoplanes</td>\n",
       "      <td>Rhodoplanes sp. T2.26MG-98</td>\n",
       "      <td>442</td>\n",
       "      <td>490</td>\n",
       "      <td>../data/gem/rho_formatted.json</td>\n",
       "    </tr>\n",
       "    <tr>\n",
       "      <th>7</th>\n",
       "      <td>shw</td>\n",
       "      <td>Shewanella</td>\n",
       "      <td>Shewanella sp. T2.3D-1.1</td>\n",
       "      <td>1324</td>\n",
       "      <td>1193</td>\n",
       "      <td>../data/gem/shw_formatted.json</td>\n",
       "    </tr>\n",
       "    <tr>\n",
       "      <th>8</th>\n",
       "      <td>tel</td>\n",
       "      <td>Tessaracoccus</td>\n",
       "      <td>Tessaracoccus lapidicaptus IPBSL-7</td>\n",
       "      <td>1199</td>\n",
       "      <td>1111</td>\n",
       "      <td>../data/gem/tel_formatted.json</td>\n",
       "    </tr>\n",
       "    <tr>\n",
       "      <th>9</th>\n",
       "      <td>tez</td>\n",
       "      <td>Tessaracoccus</td>\n",
       "      <td>Tessaracoccus sp. T2.5-30</td>\n",
       "      <td>1197</td>\n",
       "      <td>1114</td>\n",
       "      <td>../data/gem/tez_formatted.json</td>\n",
       "    </tr>\n",
       "  </tbody>\n",
       "</table>\n",
       "</div>"
      ],
      "text/plain": [
       "     id              genus                             species  reactions  \\\n",
       "0   aci         Acidovorax                   Acidovorax BoFeN1       1246   \n",
       "1   bme      Brevundimonas        Brevundimonas sp. T2.26MG-97        431   \n",
       "2   dmi  Desulfosporosinus     Desulfosporosinus meridiei DEEP       1157   \n",
       "3   pse        Pseudomonas            Pseudomonas sp. T2.31D-1       1461   \n",
       "4  rhi1          Rhizobium            Rhizobium sp. T2.30D-1.1        712   \n",
       "5  rhi2          Rhizobium         Rhizobium sp. T2.26MG-112.2        683   \n",
       "6   rho        Rhodoplanes          Rhodoplanes sp. T2.26MG-98        442   \n",
       "7   shw         Shewanella            Shewanella sp. T2.3D-1.1       1324   \n",
       "8   tel      Tessaracoccus  Tessaracoccus lapidicaptus IPBSL-7       1199   \n",
       "9   tez      Tessaracoccus           Tessaracoccus sp. T2.5-30       1197   \n",
       "\n",
       "   metabolites                             file  \n",
       "0         1199   ../data/gem/aci_formatted.json  \n",
       "1          460   ../data/gem/bme_formatted.json  \n",
       "2         1104   ../data/gem/dmi_formatted.json  \n",
       "3         1295   ../data/gem/pse_formatted.json  \n",
       "4          797  ../data/gem/rhi1_formatted.json  \n",
       "5          773  ../data/gem/rhi2_formatted.json  \n",
       "6          490   ../data/gem/rho_formatted.json  \n",
       "7         1193   ../data/gem/shw_formatted.json  \n",
       "8         1111   ../data/gem/tel_formatted.json  \n",
       "9         1114   ../data/gem/tez_formatted.json  "
      ]
     },
     "execution_count": 7,
     "metadata": {},
     "output_type": "execute_result"
    }
   ],
   "source": [
    "metadata_df = pd.read_csv(\n",
    "    os.path.join(\n",
    "        config[\"paths\"][\"genomes\"],\n",
    "        \"genomes-metadata.csv\"\n",
    "    )\n",
    ")\n",
    "\n",
    "taxonomy_df = preloader.get_taxonomy(metadata_df)\n",
    "taxonomy_df"
   ]
  },
  {
   "cell_type": "markdown",
   "metadata": {},
   "source": [
    "### Combining taxonomy and abundances"
   ]
  },
  {
   "cell_type": "code",
   "execution_count": 8,
   "metadata": {},
   "outputs": [
    {
     "name": "stdout",
     "output_type": "stream",
     "text": [
      "[WARNING] Species for which there are no abundance data:\n",
      " ['Brevundimonas sp. T2.26MG-97' 'Desulfosporosinus meridiei DEEP'\n",
      " 'Rhodoplanes sp. T2.26MG-98' 'Shewanella sp. T2.3D-1.1']\n"
     ]
    }
   ],
   "source": [
    "# TODO: divide counts for Tessaracoccus and Rhizobium!!!\n",
    "taxonomy_abundances = pd.merge(\n",
    "    left=taxonomy_df,\n",
    "    right=abundances_df,\n",
    "    on=\"genus\",\n",
    "    how=\"left\"\n",
    ")\n",
    "\n",
    "# Combine ID column with sample ID to avoid errors in MICOM due to ID duplicates\n",
    "taxonomy_abundances[\"id\"] = \\\n",
    "    taxonomy_abundances[\"id\"] + \"_\" + taxonomy_abundances[\"sample_id\"]\n",
    "\n",
    "# Replace characters not allowed in MICOM\n",
    "taxonomy_abundances[\"id\"] = taxonomy_abundances[\"id\"].str.replace(\"-\", \"_\")\n",
    "\n",
    "print(\n",
    "    \"[WARNING] Species for which there are no abundance data:\\n\",\n",
    "    taxonomy_abundances[taxonomy_abundances[\"id\"].isnull()][\"species\"].values\n",
    ")\n",
    "\n",
    "# Save to file\n",
    "taxonomy_abundances.to_csv(\n",
    "    os.path.join(\n",
    "        output_dir,\n",
    "        \"taxonomy.csv\"\n",
    "    ),\n",
    "    header=True,\n",
    "    index=False,\n",
    "    sep=\",\"\n",
    ")"
   ]
  },
  {
   "cell_type": "code",
   "execution_count": 9,
   "metadata": {},
   "outputs": [
    {
     "data": {
      "image/png": "[encoded data removed]"
     },
     "metadata": {},
     "output_type": "display_data"
    }
   ],
   "source": [
    "fig = plot_abundances_depth(\n",
    "    taxonomy_df=taxonomy_abundances,\n",
    "    config=config\n",
    ")\n",
    "fig.show(\"png\")\n",
    "\n",
    "save_fig(\n",
    "    fig=fig,\n",
    "    filename=\"amils2023-abundances-depth.jpg\",\n",
    "    config=config\n",
    ")"
   ]
  },
  {
   "cell_type": "code",
   "execution_count": 10,
   "metadata": {},
   "outputs": [
    {
     "data": {
      "text/html": [
       "<div>\n",
       "<style scoped>\n",
       "    .dataframe tbody tr th:only-of-type {\n",
       "        vertical-align: middle;\n",
       "    }\n",
       "\n",
       "    .dataframe tbody tr th {\n",
       "        vertical-align: top;\n",
       "    }\n",
       "\n",
       "    .dataframe thead th {\n",
       "        text-align: right;\n",
       "    }\n",
       "</style>\n",
       "<table border=\"1\" class=\"dataframe\">\n",
       "  <thead>\n",
       "    <tr style=\"text-align: right;\">\n",
       "      <th></th>\n",
       "      <th>id</th>\n",
       "      <th>genus</th>\n",
       "      <th>species</th>\n",
       "      <th>reactions</th>\n",
       "      <th>metabolites</th>\n",
       "      <th>file</th>\n",
       "      <th>sample_id</th>\n",
       "      <th>abundance</th>\n",
       "      <th>Code</th>\n",
       "      <th>Depth</th>\n",
       "      <th>log_abundance</th>\n",
       "    </tr>\n",
       "  </thead>\n",
       "  <tbody>\n",
       "    <tr>\n",
       "      <th>14</th>\n",
       "      <td>pse_BH10_266_Roche</td>\n",
       "      <td>Pseudomonas</td>\n",
       "      <td>Pseudomonas sp. T2.31D-1</td>\n",
       "      <td>1461</td>\n",
       "      <td>1295</td>\n",
       "      <td>../data/gem/pse_formatted.json</td>\n",
       "      <td>BH10-266-Roche</td>\n",
       "      <td>0.0</td>\n",
       "      <td>pse</td>\n",
       "      <td>266</td>\n",
       "      <td>0.000000</td>\n",
       "    </tr>\n",
       "    <tr>\n",
       "      <th>15</th>\n",
       "      <td>pse_BH10_392_Roche</td>\n",
       "      <td>Pseudomonas</td>\n",
       "      <td>Pseudomonas sp. T2.31D-1</td>\n",
       "      <td>1461</td>\n",
       "      <td>1295</td>\n",
       "      <td>../data/gem/pse_formatted.json</td>\n",
       "      <td>BH10-392-Roche</td>\n",
       "      <td>3.0</td>\n",
       "      <td>pse</td>\n",
       "      <td>392</td>\n",
       "      <td>1.386294</td>\n",
       "    </tr>\n",
       "    <tr>\n",
       "      <th>16</th>\n",
       "      <td>pse_BH10_420_Roche</td>\n",
       "      <td>Pseudomonas</td>\n",
       "      <td>Pseudomonas sp. T2.31D-1</td>\n",
       "      <td>1461</td>\n",
       "      <td>1295</td>\n",
       "      <td>../data/gem/pse_formatted.json</td>\n",
       "      <td>BH10-420-Roche</td>\n",
       "      <td>0.0</td>\n",
       "      <td>pse</td>\n",
       "      <td>420</td>\n",
       "      <td>0.000000</td>\n",
       "    </tr>\n",
       "    <tr>\n",
       "      <th>17</th>\n",
       "      <td>pse_BH10_496_Roche</td>\n",
       "      <td>Pseudomonas</td>\n",
       "      <td>Pseudomonas sp. T2.31D-1</td>\n",
       "      <td>1461</td>\n",
       "      <td>1295</td>\n",
       "      <td>../data/gem/pse_formatted.json</td>\n",
       "      <td>BH10-496-Roche</td>\n",
       "      <td>320.0</td>\n",
       "      <td>pse</td>\n",
       "      <td>496</td>\n",
       "      <td>5.771441</td>\n",
       "    </tr>\n",
       "  </tbody>\n",
       "</table>\n",
       "</div>"
      ],
      "text/plain": [
       "                    id        genus                   species  reactions  \\\n",
       "14  pse_BH10_266_Roche  Pseudomonas  Pseudomonas sp. T2.31D-1       1461   \n",
       "15  pse_BH10_392_Roche  Pseudomonas  Pseudomonas sp. T2.31D-1       1461   \n",
       "16  pse_BH10_420_Roche  Pseudomonas  Pseudomonas sp. T2.31D-1       1461   \n",
       "17  pse_BH10_496_Roche  Pseudomonas  Pseudomonas sp. T2.31D-1       1461   \n",
       "\n",
       "    metabolites                            file       sample_id  abundance  \\\n",
       "14         1295  ../data/gem/pse_formatted.json  BH10-266-Roche        0.0   \n",
       "15         1295  ../data/gem/pse_formatted.json  BH10-392-Roche        3.0   \n",
       "16         1295  ../data/gem/pse_formatted.json  BH10-420-Roche        0.0   \n",
       "17         1295  ../data/gem/pse_formatted.json  BH10-496-Roche      320.0   \n",
       "\n",
       "   Code Depth  log_abundance  \n",
       "14  pse   266       0.000000  \n",
       "15  pse   392       1.386294  \n",
       "16  pse   420       0.000000  \n",
       "17  pse   496       5.771441  "
      ]
     },
     "execution_count": 10,
     "metadata": {},
     "output_type": "execute_result"
    }
   ],
   "source": [
    "# WARNING: only Pseudomonas is found in Roche samples\n",
    "taxonomy_abundances[\n",
    "    taxonomy_abundances[\"sample_id\"].str.contains(\"Roche\", na=False)\n",
    "]"
   ]
  },
  {
   "cell_type": "code",
   "execution_count": 11,
   "metadata": {},
   "outputs": [
    {
     "data": {
      "application/vnd.jupyter.widget-view+json": {
       "model_id": "e2c827c36d1b4224bb5a3a3f47cff4d4",
       "version_major": 2,
       "version_minor": 0
      },
      "text/plain": [
       "Output()"
      ]
     },
     "metadata": {},
     "output_type": "display_data"
    },
    {
     "data": {
      "text/html": [
       "<pre style=\"white-space:pre;overflow-x:auto;line-height:normal;font-family:Menlo,'DejaVu Sans Mono',consolas,'Courier New',monospace\"></pre>\n"
      ],
      "text/plain": []
     },
     "metadata": {},
     "output_type": "display_data"
    },
    {
     "data": {
      "text/html": [
       "<pre style=\"white-space:pre;overflow-x:auto;line-height:normal;font-family:Menlo,'DejaVu Sans Mono',consolas,'Courier New',monospace\">\n",
       "</pre>\n"
      ],
      "text/plain": [
       "\n"
      ]
     },
     "metadata": {},
     "output_type": "display_data"
    }
   ],
   "source": [
    "# Build community\n",
    "com = Community(taxonomy_abundances)\n",
    "\n",
    "# Save community\n",
    "com.to_pickle(\n",
    "    os.path.join(\n",
    "        output_dir,\n",
    "        \"paper_abundances\",\n",
    "        \"community.pickle\"\n",
    "    )\n",
    ")"
   ]
  },
  {
   "cell_type": "code",
   "execution_count": 12,
   "metadata": {},
   "outputs": [],
   "source": [
    "%%script false --no-raise-error\n",
    "\n",
    "# Get tradeoffs\n",
    "sol = com.cooperative_tradeoff()"
   ]
  },
  {
   "cell_type": "markdown",
   "metadata": {},
   "source": [
    "## Minimal media"
   ]
  },
  {
   "cell_type": "code",
   "execution_count": 13,
   "metadata": {},
   "outputs": [
    {
     "data": {
      "text/html": [
       "<pre style=\"white-space:pre;overflow-x:auto;line-height:normal;font-family:Menlo,'DejaVu Sans Mono',consolas,'Courier New',monospace\"><span style=\"color: #7fbfbf; text-decoration-color: #7fbfbf\">[10:40:03] </span><span style=\"color: #800000; text-decoration-color: #800000\">WARNING </span> the MIP version of minimal media is extremely slow for models that large :<span style=\"font-weight: bold\">(</span>         <a href=\"file:///Users/filiberto/miniconda3/envs/biofoundry-micom/lib/python3.10/site-packages/micom/media.py\" target=\"_blank\"><span style=\"color: #7f7f7f; text-decoration-color: #7f7f7f\">media.py</span></a><span style=\"color: #7f7f7f; text-decoration-color: #7f7f7f\">:</span><a href=\"file:///Users/filiberto/miniconda3/envs/biofoundry-micom/lib/python3.10/site-packages/micom/media.py#72\" target=\"_blank\"><span style=\"color: #7f7f7f; text-decoration-color: #7f7f7f\">72</span></a>\n",
       "</pre>\n"
      ],
      "text/plain": [
       "\u001b[2;36m[10:40:03]\u001b[0m\u001b[2;36m \u001b[0m\u001b[31mWARNING \u001b[0m the MIP version of minimal media is extremely slow for models that large :\u001b[1m(\u001b[0m         \u001b]8;id=493556;file:///Users/filiberto/miniconda3/envs/biofoundry-micom/lib/python3.10/site-packages/micom/media.py\u001b\\\u001b[2mmedia.py\u001b[0m\u001b]8;;\u001b\\\u001b[2m:\u001b[0m\u001b]8;id=540588;file:///Users/filiberto/miniconda3/envs/biofoundry-micom/lib/python3.10/site-packages/micom/media.py#72\u001b\\\u001b[2m72\u001b[0m\u001b]8;;\u001b\\\n"
      ]
     },
     "metadata": {},
     "output_type": "display_data"
    },
    {
     "data": {
      "image/png": "[encoded data removed]"
     },
     "metadata": {},
     "output_type": "display_data"
    }
   ],
   "source": [
    "medium_manager = MICOMMediumManager(config)\n",
    "\n",
    "min_medium = medium_manager.get_min_medium(\n",
    "    com=com,\n",
    "    growth_tolerance=0.85\n",
    ")\n",
    "\n",
    "fig = plot_minimal_medium(\n",
    "    min_medium=min_medium,\n",
    "    top_n=20,\n",
    "    config=config\n",
    ")\n",
    "fig.show(\"png\")\n",
    "\n",
    "save_fig(\n",
    "    fig=fig,\n",
    "    filename=\"micom-limiting-metabolites.jpg\",\n",
    "    config=config\n",
    ")"
   ]
  },
  {
   "cell_type": "markdown",
   "metadata": {},
   "source": [
    "# Experiments"
   ]
  },
  {
   "cell_type": "markdown",
   "metadata": {},
   "source": [
    "### 1. Same abundance among species\n",
    "\n",
    "1.1. Objective: community growth\n",
    "\n",
    "1.2. Objective: production of metabolite of interest\n",
    "\n",
    "1.3. Objective: community growth + production of metabolite of interest\n",
    "\n",
    "1.4. Objective: community growth + production of metabolite of interest + anaerobic conditions"
   ]
  },
  {
   "cell_type": "code",
   "execution_count": null,
   "metadata": {},
   "outputs": [],
   "source": [
    "# Create new dataframe with just one sample and equal abundances\n",
    "taxonomy_abundances_equal = taxonomy_abundances.copy()\n",
    "\n",
    "# Format for dropping duplicates\n",
    "taxonomy_abundances_equal[\"id\"] = taxonomy_abundances_equal[\"Code\"].copy()\n",
    "taxonomy_abundances_equal[\"sample_id\"] = \"sample_id\"\n",
    "taxonomy_abundances_equal[\"abundance\"] = 1.0\n",
    "taxonomy_abundances_equal = taxonomy_abundances_equal\\\n",
    "    .drop([\"Code\", \"Depth\", \"log_abundance\"], axis=1)\n",
    "\n",
    "# Finally, drop duplicates\n",
    "taxonomy_abundances_equal = taxonomy_abundances_equal\\\n",
    "    .drop_duplicates()\\\n",
    "    .reset_index(drop=True)\n",
    "\n",
    "taxonomy_abundances_equal"
   ]
  },
  {
   "cell_type": "code",
   "execution_count": null,
   "metadata": {},
   "outputs": [],
   "source": [
    "# Build community\n",
    "com = Community(taxonomy_abundances_equal)\n",
    "\n",
    "# Save community\n",
    "equal_abundances_path = os.path.join(\n",
    "    output_dir,\n",
    "    \"equal_abundances/\"\n",
    "    \"community.pickle\"\n",
    ")\n",
    "com.to_pickle(equal_abundances_path)"
   ]
  },
  {
   "cell_type": "markdown",
   "metadata": {},
   "source": [
    "#### 1.1. Objective: community growth"
   ]
  },
  {
   "cell_type": "code",
   "execution_count": null,
   "metadata": {},
   "outputs": [],
   "source": [
    "%%script false --no-raise-error\n",
    "\n",
    "# Load community\n",
    "com = load_pickle(equal_abundances_path)\n",
    "\n",
    "# Get tradeoffs\n",
    "sol = com.cooperative_tradeoff(fraction=0.5)\n",
    "sol"
   ]
  },
  {
   "cell_type": "code",
   "execution_count": null,
   "metadata": {},
   "outputs": [],
   "source": [
    "%%script false --no-raise-error\n",
    "\n",
    "save_sol(\n",
    "    sol=sol,\n",
    "    path=os.path.join(\n",
    "        output_dir,\n",
    "        \"equal_abundances/\"\n",
    "        \"growth_only.csv\"\n",
    "    )\n",
    ")"
   ]
  },
  {
   "cell_type": "markdown",
   "metadata": {},
   "source": [
    "#### 1.2. Objective: Production of metabolite of interest"
   ]
  },
  {
   "cell_type": "code",
   "execution_count": null,
   "metadata": {},
   "outputs": [],
   "source": [
    "# Get 3-hydroxybutyrate InChI (PubChem)\n",
    "source_inchikey = \"WHBMMWSBFZVSSR-UHFFFAOYSA-M\"\n",
    "\n",
    "modelseed_cpd = pd.read_table(\n",
    "    os.path.join(\n",
    "        config[\"paths\"][\"modelseed\"],\n",
    "        \"compounds.tsv\"\n",
    "    ),\n",
    "    dtype=object # Avoid warnings\n",
    ")\n",
    "\n",
    "# Not found by InChIKey\n",
    "modelseed_cpd[modelseed_cpd[\"inchikey\"] == source_inchikey]"
   ]
  },
  {
   "cell_type": "code",
   "execution_count": null,
   "metadata": {},
   "outputs": [],
   "source": [
    "source_matches = modelseed_cpd[\"aliases\"].dropna(axis=0)\\\n",
    "    .str.findall(\"3-hydroxybutyrate\")\\\n",
    "    .apply(\",\".join)\n",
    "\n",
    "source_matches = source_matches[\n",
    "    source_matches != \"\"\n",
    "]\n",
    "\n",
    "modelseed_cpd.iloc[source_matches.index]"
   ]
  },
  {
   "cell_type": "code",
   "execution_count": null,
   "metadata": {},
   "outputs": [],
   "source": [
    "# Get ModelSEED compound ID and abbreviation to retrieve its reactions in the \n",
    "# MICOM community\n",
    "source_modelseed_id = modelseed_cpd.iloc[source_matches.index]\\\n",
    "    [[\"id\", \"abbreviation\"]]\n",
    "\n",
    "source_modelseed_id = \\\n",
    "    source_modelseed_id[\"id\"] + \"=\" + source_modelseed_id[\"abbreviation\"]\n",
    "\n",
    "source_modelseed_id = source_modelseed_id.values[0]\n",
    "\n",
    "# Get all possible combinations for the metabolites:\n",
    "# ModelSEED ID + abbreviation + all compartments + all organisms\n",
    "source_micom_ids = [\n",
    "    f\"{source_modelseed_id}_{compartment}\"\n",
    "    for compartment in com.compartments.keys()\n",
    "]\n",
    "source_micom_ids"
   ]
  },
  {
   "cell_type": "code",
   "execution_count": null,
   "metadata": {},
   "outputs": [],
   "source": [
    "source_reactions = []\n",
    "\n",
    "for source_id in source_micom_ids:\n",
    "    try:\n",
    "        source_reactions += list(\n",
    "            com.metabolites.get_by_id(source_id).reactions\n",
    "        )\n",
    "    except KeyError:\n",
    "        print(f\"[ERROR] ID not found! {source_id}\")\n",
    "\n",
    "# Remove potential duplicates\n",
    "source_reactions = list(set(source_reactions))\n",
    "source_reactions"
   ]
  },
  {
   "cell_type": "code",
   "execution_count": null,
   "metadata": {},
   "outputs": [],
   "source": [
    "# Change upper bound for allowing production\n",
    "# See: https://cobrapy-cdiener.readthedocs.io/en/latest/simulating.html#Changing-the-Objectives\n",
    "# for reaction in source_reactions:\n",
    "#     reaction.upper_bound = 5000.\n",
    "\n",
    "#     print(reaction.id, reaction.upper_bound)"
   ]
  },
  {
   "cell_type": "code",
   "execution_count": null,
   "metadata": {},
   "outputs": [],
   "source": [
    "# Load community\n",
    "com = load_pickle(equal_abundances_path)\n",
    "\n",
    "# Set as objective all reactions in which the target is found\n",
    "com.objective = source_reactions\n",
    "\n",
    "print(\"Objective:\", com.objective.expression)\n",
    "\n",
    "# Get tradeoffs\n",
    "sol = com.cooperative_tradeoff(\n",
    "    fraction=0.1,\n",
    "    fluxes=True,\n",
    "    pfba=True\n",
    ")\n",
    "sol"
   ]
  },
  {
   "cell_type": "code",
   "execution_count": null,
   "metadata": {},
   "outputs": [],
   "source": [
    "source_fluxes = [\n",
    "    reaction.id.split(\"__\")[0]\n",
    "    for reaction in source_reactions\n",
    "]\n",
    "\n",
    "sol.fluxes[source_fluxes]"
   ]
  },
  {
   "cell_type": "code",
   "execution_count": null,
   "metadata": {},
   "outputs": [],
   "source": [
    "save_sol(\n",
    "    sol=sol,\n",
    "    path=os.path.join(\n",
    "        output_dir,\n",
    "        \"equal_abundances/\"\n",
    "        \"production_only.csv\"\n",
    "    )\n",
    ")"
   ]
  },
  {
   "cell_type": "markdown",
   "metadata": {},
   "source": [
    "#### 1.3. Objective: community growth + production of metabolite of interest\n",
    "\n",
    "Check [this issue](https://github.com/micom-dev/micom/discussions/21#discussioncomment-339032) for details."
   ]
  },
  {
   "cell_type": "code",
   "execution_count": null,
   "metadata": {},
   "outputs": [],
   "source": [
    "# Load community\n",
    "com = load_pickle(equal_abundances_path)"
   ]
  },
  {
   "cell_type": "code",
   "execution_count": null,
   "metadata": {},
   "outputs": [],
   "source": [
    "%%script false --no-raise-error\n",
    "\n",
    "\n",
    "from micom.data import test_taxonomy\n",
    "from micom.util import _apply_min_growth\n",
    "from micom import Community\n",
    "\n",
    "tax = test_taxonomy()\n",
    "com = Community(tax)\n",
    "sol = com.cooperative_tradeoff()\n",
    "with com:\n",
    "    _apply_min_growth(com, sol.members.growth_rate.drop(\"medium\"))\n",
    "    com.objective = com.reactions.EX_ac_e__Escherichia_coli_1\n",
    "    ac_sol = com.optimize()\n",
    "print(ac_sol.objective_value)"
   ]
  },
  {
   "cell_type": "markdown",
   "metadata": {},
   "source": [
    "#### 1.4. Objective: community growth + production of metabolite of interest + anaerobic conditions"
   ]
  },
  {
   "cell_type": "markdown",
   "metadata": {},
   "source": [
    "### 2. Use abundances from Amils et al. 2023\n",
    "\n",
    "* A community model for each depth\n",
    "* A community model merging the maximum at all depths"
   ]
  }
 ],
 "metadata": {
  "kernelspec": {
   "display_name": "biofoundry",
   "language": "python",
   "name": "python3"
  },
  "language_info": {
   "codemirror_mode": {
    "name": "ipython",
    "version": 3
   },
   "file_extension": ".py",
   "mimetype": "text/x-python",
   "name": "python",
   "nbconvert_exporter": "python",
   "pygments_lexer": "ipython3",
   "version": "3.10.12"
  },
  "orig_nbformat": 4
 },
 "nbformat": 4,
 "nbformat_minor": 2
}
