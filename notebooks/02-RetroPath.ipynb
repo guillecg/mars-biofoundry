{
 "cells": [
  {
   "cell_type": "markdown",
   "metadata": {},
   "source": [
    "# RetroPath2.0 analysis"
   ]
  },
  {
   "cell_type": "code",
   "execution_count": 1,
   "metadata": {},
   "outputs": [],
   "source": [
    "# Add higher directory to python modules path\n",
    "\n",
    "import sys\n",
    "\n",
    "sys.path.append(\"..\")"
   ]
  },
  {
   "cell_type": "code",
   "execution_count": 2,
   "metadata": {},
   "outputs": [],
   "source": [
    "import os\n",
    "import yaml\n",
    "\n",
    "import csv\n",
    "import pandas as pd\n",
    "\n",
    "from modules.retropath.utils import RetroPathPreloader"
   ]
  },
  {
   "cell_type": "code",
   "execution_count": 3,
   "metadata": {},
   "outputs": [],
   "source": [
    "# Load config\n",
    "with open(\"../modules/config.yml\") as config_file:\n",
    "    config = yaml.safe_load(config_file)"
   ]
  },
  {
   "cell_type": "markdown",
   "metadata": {},
   "source": [
    "## Data preparation"
   ]
  },
  {
   "cell_type": "code",
   "execution_count": 4,
   "metadata": {},
   "outputs": [],
   "source": [
    "# Load the previously generated metadata (see 01-GEM.ipynb)\n",
    "metadata_df = pd.read_csv(\n",
    "    os.path.join(\n",
    "        config[\"paths\"][\"genomes\"],\n",
    "        \"genomes-metadata.csv\"\n",
    "    )\n",
    ")\n",
    "\n",
    "# Instantiate the preloader\n",
    "preloader = RetroPathPreloader(config)"
   ]
  },
  {
   "cell_type": "markdown",
   "metadata": {},
   "source": [
    "#### EC numbers"
   ]
  },
  {
   "cell_type": "code",
   "execution_count": 6,
   "metadata": {},
   "outputs": [
    {
     "ename": "KeyError",
     "evalue": "'modelseed'",
     "output_type": "error",
     "traceback": [
      "\u001b[0;31m---------------------------------------------------------------------------\u001b[0m",
      "\u001b[0;31mKeyError\u001b[0m                                  Traceback (most recent call last)",
      "Cell \u001b[0;32mIn[6], line 15\u001b[0m\n\u001b[1;32m      6\u001b[0m     model_path \u001b[39m=\u001b[39m os\u001b[39m.\u001b[39mpath\u001b[39m.\u001b[39mjoin(\n\u001b[1;32m      7\u001b[0m         config[\u001b[39m\"\u001b[39m\u001b[39mpaths\u001b[39m\u001b[39m\"\u001b[39m][\u001b[39m\"\u001b[39m\u001b[39mmodels\u001b[39m\u001b[39m\"\u001b[39m],\n\u001b[1;32m      8\u001b[0m         \u001b[39mf\u001b[39m\u001b[39m\"\u001b[39m\u001b[39m{\u001b[39;00morganism\u001b[39m}\u001b[39;00m\u001b[39m.json\u001b[39m\u001b[39m\"\u001b[39m\n\u001b[1;32m      9\u001b[0m     )\n\u001b[1;32m     11\u001b[0m     \u001b[39m# Append results to dataframe\u001b[39;00m\n\u001b[1;32m     12\u001b[0m     results_df \u001b[39m=\u001b[39m pd\u001b[39m.\u001b[39mconcat(\n\u001b[1;32m     13\u001b[0m         [\n\u001b[1;32m     14\u001b[0m             results_df,\n\u001b[0;32m---> 15\u001b[0m             preloader\u001b[39m.\u001b[39;49mget_ec_from_model(model_path)\n\u001b[1;32m     16\u001b[0m         ],\n\u001b[1;32m     17\u001b[0m         axis\u001b[39m=\u001b[39m\u001b[39m0\u001b[39m,\n\u001b[1;32m     18\u001b[0m         ignore_index\u001b[39m=\u001b[39m\u001b[39mTrue\u001b[39;00m\n\u001b[1;32m     19\u001b[0m     )\n\u001b[1;32m     21\u001b[0m results_df\u001b[39m.\u001b[39mto_csv(\n\u001b[1;32m     22\u001b[0m     os\u001b[39m.\u001b[39mpath\u001b[39m.\u001b[39mjoin(\n\u001b[1;32m     23\u001b[0m         config[\u001b[39m\"\u001b[39m\u001b[39mpaths\u001b[39m\u001b[39m\"\u001b[39m][\u001b[39m\"\u001b[39m\u001b[39mretropath\u001b[39m\u001b[39m\"\u001b[39m],\n\u001b[0;32m   (...)\u001b[0m\n\u001b[1;32m     31\u001b[0m     quoting\u001b[39m=\u001b[39mcsv\u001b[39m.\u001b[39mQUOTE_MINIMAL \u001b[39m# Avoid errors with commas in names\u001b[39;00m\n\u001b[1;32m     32\u001b[0m )\n\u001b[1;32m     34\u001b[0m results_df\n",
      "File \u001b[0;32m~/git/astrobio/tfm/mars-biofoundry/notebooks/../modules/retropath/utils.py:46\u001b[0m, in \u001b[0;36mRetroPathPreloader.get_ec_from_model\u001b[0;34m(self, model_path)\u001b[0m\n\u001b[1;32m     38\u001b[0m reaction_ids \u001b[39m=\u001b[39m [\n\u001b[1;32m     39\u001b[0m     item[\u001b[39m\"\u001b[39m\u001b[39mid\u001b[39m\u001b[39m\"\u001b[39m]\u001b[39m.\u001b[39msplit(\u001b[39m\"\u001b[39m\u001b[39m_\u001b[39m\u001b[39m\"\u001b[39m)[\u001b[39m0\u001b[39m]\n\u001b[1;32m     40\u001b[0m     \u001b[39mfor\u001b[39;00m item \u001b[39min\u001b[39;00m model_dict[\u001b[39m\"\u001b[39m\u001b[39mreactions\u001b[39m\u001b[39m\"\u001b[39m]\n\u001b[1;32m     41\u001b[0m ]\n\u001b[1;32m     43\u001b[0m \u001b[39m# Get EC numbers from reactions in ModelSEEDDatabase\u001b[39;00m\n\u001b[1;32m     44\u001b[0m modelseed_df \u001b[39m=\u001b[39m pd\u001b[39m.\u001b[39mread_table(\n\u001b[1;32m     45\u001b[0m     os\u001b[39m.\u001b[39mpath\u001b[39m.\u001b[39mjoin(\n\u001b[0;32m---> 46\u001b[0m         \u001b[39mself\u001b[39;49m\u001b[39m.\u001b[39;49mconfig[\u001b[39m\"\u001b[39;49m\u001b[39mmodelseed\u001b[39;49m\u001b[39m\"\u001b[39;49m],\n\u001b[1;32m     47\u001b[0m         \u001b[39m\"\u001b[39m\u001b[39mreactions.tsv\u001b[39m\u001b[39m\"\u001b[39m\n\u001b[1;32m     48\u001b[0m     )\n\u001b[1;32m     49\u001b[0m )\n\u001b[1;32m     51\u001b[0m ec_numbers \u001b[39m=\u001b[39m modelseed_df[\n\u001b[1;32m     52\u001b[0m     modelseed_df[\u001b[39m\"\u001b[39m\u001b[39mid\u001b[39m\u001b[39m\"\u001b[39m]\u001b[39m.\u001b[39misin(reaction_ids)\n\u001b[1;32m     53\u001b[0m ][\u001b[39m\"\u001b[39m\u001b[39mec_numbers\u001b[39m\u001b[39m\"\u001b[39m]\n\u001b[1;32m     55\u001b[0m \u001b[39m# Explode series since there may be multiple EC numbers per reaction\u001b[39;00m\n",
      "\u001b[0;31mKeyError\u001b[0m: 'modelseed'"
     ]
    }
   ],
   "source": [
    "# Create empty dataframe\n",
    "results_df = pd.DataFrame()\n",
    "\n",
    "for organism in metadata_df[\"Code\"]:\n",
    "\n",
    "    model_path = os.path.join(\n",
    "        config[\"paths\"][\"models\"],\n",
    "        f\"{organism}.json\"\n",
    "    )\n",
    "\n",
    "    # Append results to dataframe\n",
    "    results_df = pd.concat(\n",
    "        [\n",
    "            results_df,\n",
    "            preloader.get_ec_from_model(model_path)\n",
    "        ],\n",
    "        axis=0,\n",
    "        ignore_index=True\n",
    "    )\n",
    "\n",
    "results_df.to_csv(\n",
    "    os.path.join(\n",
    "        config[\"paths\"][\"retropath\"],\n",
    "        config[\"retropath\"][\"files\"][\"ec_numbers\"]\n",
    "    ),\n",
    "    header=True,\n",
    "    index=False,\n",
    "    sep=\",\",\n",
    "    mode=\"w\",\n",
    "    quotechar='\"',\n",
    "    quoting=csv.QUOTE_MINIMAL # Avoid errors with commas in names\n",
    ")\n",
    "\n",
    "results_df"
   ]
  },
  {
   "cell_type": "markdown",
   "metadata": {},
   "source": [
    "#### Rules"
   ]
  },
  {
   "cell_type": "code",
   "execution_count": 8,
   "metadata": {},
   "outputs": [],
   "source": [
    "rules_df = preloader.get_rules()\n",
    "\n",
    "rules_df.to_csv(\n",
    "    os.path.join(\n",
    "        config[\"paths\"][\"retropath\"],\n",
    "        config[\"retropath\"][\"files\"][\"rules\"]\n",
    "    ),\n",
    "    header=True,\n",
    "    index=False,\n",
    "    sep=\",\",\n",
    "    quotechar='\"',\n",
    "    quoting=csv.QUOTE_MINIMAL # Avoid errors with commas in names\n",
    ")"
   ]
  },
  {
   "cell_type": "markdown",
   "metadata": {},
   "source": [
    "#### Sink"
   ]
  },
  {
   "cell_type": "markdown",
   "metadata": {},
   "source": [
    "#### Source(s)"
   ]
  },
  {
   "cell_type": "markdown",
   "metadata": {},
   "source": [
    "#### Launch RetroPath"
   ]
  }
 ],
 "metadata": {
  "kernelspec": {
   "display_name": "tfm",
   "language": "python",
   "name": "python3"
  },
  "language_info": {
   "codemirror_mode": {
    "name": "ipython",
    "version": 3
   },
   "file_extension": ".py",
   "mimetype": "text/x-python",
   "name": "python",
   "nbconvert_exporter": "python",
   "pygments_lexer": "ipython3",
   "version": "3.10.12"
  },
  "orig_nbformat": 4
 },
 "nbformat": 4,
 "nbformat_minor": 2
}
