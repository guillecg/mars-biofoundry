{
 "cells": [
  {
   "cell_type": "markdown",
   "metadata": {},
   "source": [
    "# RetroPath2.0 analysis"
   ]
  },
  {
   "cell_type": "code",
   "execution_count": 1,
   "metadata": {},
   "outputs": [],
   "source": [
    "# Add higher directory to python modules path\n",
    "\n",
    "import sys\n",
    "\n",
    "sys.path.append(\"..\")"
   ]
  },
  {
   "cell_type": "code",
   "execution_count": 2,
   "metadata": {},
   "outputs": [],
   "source": [
    "import os\n",
    "import yaml\n",
    "\n",
    "import csv\n",
    "import pandas as pd\n",
    "\n",
    "from modules.retropath.utils import RetroPathPreloader"
   ]
  },
  {
   "cell_type": "code",
   "execution_count": 3,
   "metadata": {},
   "outputs": [],
   "source": [
    "# Load config\n",
    "\n",
    "with open(\"../modules/config.yml\") as config_file:\n",
    "    config = yaml.safe_load(config_file)"
   ]
  },
  {
   "cell_type": "markdown",
   "metadata": {},
   "source": [
    "## Data preparation"
   ]
  },
  {
   "cell_type": "code",
   "execution_count": 4,
   "metadata": {},
   "outputs": [],
   "source": [
    "# Load the previously generated metadata (see 01-GEM.ipynb)\n",
    "metadata_df = pd.read_csv(\n",
    "    os.path.join(\n",
    "        config[\"paths\"][\"genomes\"],\n",
    "        \"genomes-metadata.csv\"\n",
    "    )\n",
    ")\n",
    "\n",
    "# Instantiate the preloader\n",
    "preloader = RetroPathPreloader()"
   ]
  },
  {
   "cell_type": "markdown",
   "metadata": {},
   "source": [
    "#### EC numbers"
   ]
  },
  {
   "cell_type": "code",
   "execution_count": 5,
   "metadata": {},
   "outputs": [
    {
     "data": {
      "text/html": [
       "<div>\n",
       "<style scoped>\n",
       "    .dataframe tbody tr th:only-of-type {\n",
       "        vertical-align: middle;\n",
       "    }\n",
       "\n",
       "    .dataframe tbody tr th {\n",
       "        vertical-align: top;\n",
       "    }\n",
       "\n",
       "    .dataframe thead th {\n",
       "        text-align: right;\n",
       "    }\n",
       "</style>\n",
       "<table border=\"1\" class=\"dataframe\">\n",
       "  <thead>\n",
       "    <tr style=\"text-align: right;\">\n",
       "      <th></th>\n",
       "      <th>ec_numbers</th>\n",
       "      <th>ID</th>\n",
       "    </tr>\n",
       "  </thead>\n",
       "  <tbody>\n",
       "    <tr>\n",
       "      <th>0</th>\n",
       "      <td>3.6.1.1</td>\n",
       "      <td>aci</td>\n",
       "    </tr>\n",
       "    <tr>\n",
       "      <th>1</th>\n",
       "      <td>3.5.1.54</td>\n",
       "      <td>aci</td>\n",
       "    </tr>\n",
       "    <tr>\n",
       "      <th>2</th>\n",
       "      <td>1.11.1.21</td>\n",
       "      <td>aci</td>\n",
       "    </tr>\n",
       "    <tr>\n",
       "      <th>3</th>\n",
       "      <td>1.11.1.6</td>\n",
       "      <td>aci</td>\n",
       "    </tr>\n",
       "    <tr>\n",
       "      <th>4</th>\n",
       "      <td>1.2.4.1</td>\n",
       "      <td>aci</td>\n",
       "    </tr>\n",
       "    <tr>\n",
       "      <th>...</th>\n",
       "      <td>...</td>\n",
       "      <td>...</td>\n",
       "    </tr>\n",
       "    <tr>\n",
       "      <th>11584</th>\n",
       "      <td>2.7.7.77</td>\n",
       "      <td>tez</td>\n",
       "    </tr>\n",
       "    <tr>\n",
       "      <th>11585</th>\n",
       "      <td>2.6.1.58</td>\n",
       "      <td>tez</td>\n",
       "    </tr>\n",
       "    <tr>\n",
       "      <th>11586</th>\n",
       "      <td>4.1.99.22</td>\n",
       "      <td>tez</td>\n",
       "    </tr>\n",
       "    <tr>\n",
       "      <th>11587</th>\n",
       "      <td>4.6.1.17</td>\n",
       "      <td>tez</td>\n",
       "    </tr>\n",
       "    <tr>\n",
       "      <th>11588</th>\n",
       "      <td>NaN</td>\n",
       "      <td>tez</td>\n",
       "    </tr>\n",
       "  </tbody>\n",
       "</table>\n",
       "<p>11589 rows × 2 columns</p>\n",
       "</div>"
      ],
      "text/plain": [
       "      ec_numbers   ID\n",
       "0        3.6.1.1  aci\n",
       "1       3.5.1.54  aci\n",
       "2      1.11.1.21  aci\n",
       "3       1.11.1.6  aci\n",
       "4        1.2.4.1  aci\n",
       "...          ...  ...\n",
       "11584   2.7.7.77  tez\n",
       "11585   2.6.1.58  tez\n",
       "11586  4.1.99.22  tez\n",
       "11587   4.6.1.17  tez\n",
       "11588        NaN  tez\n",
       "\n",
       "[11589 rows x 2 columns]"
      ]
     },
     "execution_count": 5,
     "metadata": {},
     "output_type": "execute_result"
    }
   ],
   "source": [
    "# Create empty dataframe\n",
    "results_df = pd.DataFrame()\n",
    "\n",
    "for organism in metadata_df[\"Code\"]:\n",
    "\n",
    "    model_path = os.path.join(\n",
    "        config[\"paths\"][\"models\"],\n",
    "        f\"{organism}.json\"\n",
    "    )\n",
    "\n",
    "    # Append results to dataframe\n",
    "    results_df = pd.concat(\n",
    "        [\n",
    "            results_df,\n",
    "            preloader.get_ec_from_model(\n",
    "                model_path=model_path,\n",
    "                modelseed_dir=config[\"paths\"][\"modelseed\"]\n",
    "            )\n",
    "        ],\n",
    "        axis=0,\n",
    "        ignore_index=True\n",
    "    )\n",
    "\n",
    "results_df.to_csv(\n",
    "    os.path.join(\n",
    "        config[\"paths\"][\"retropath\"],\n",
    "        \"ec_numbers_all.csv\"\n",
    "    ),\n",
    "    header=True,\n",
    "    index=False,\n",
    "    sep=\",\",\n",
    "    mode=\"w\",\n",
    "    quotechar='\"',\n",
    "    quoting=csv.QUOTE_MINIMAL # Avoid errors with commas in names\n",
    ")\n",
    "\n",
    "results_df"
   ]
  },
  {
   "cell_type": "markdown",
   "metadata": {},
   "source": [
    "#### Rules"
   ]
  },
  {
   "cell_type": "markdown",
   "metadata": {},
   "source": [
    "#### Sink"
   ]
  },
  {
   "cell_type": "markdown",
   "metadata": {},
   "source": [
    "#### Source(s)"
   ]
  },
  {
   "cell_type": "markdown",
   "metadata": {},
   "source": [
    "#### Launch RetroPath"
   ]
  }
 ],
 "metadata": {
  "kernelspec": {
   "display_name": "tfm",
   "language": "python",
   "name": "python3"
  },
  "language_info": {
   "codemirror_mode": {
    "name": "ipython",
    "version": 3
   },
   "file_extension": ".py",
   "mimetype": "text/x-python",
   "name": "python",
   "nbconvert_exporter": "python",
   "pygments_lexer": "ipython3",
   "version": "3.10.12"
  },
  "orig_nbformat": 4
 },
 "nbformat": 4,
 "nbformat_minor": 2
}
